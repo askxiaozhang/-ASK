{
 "cells": [
  {
   "cell_type": "markdown",
   "source": [
    "# 二分"
   ],
   "metadata": {
    "collapsed": false
   },
   "id": "d1fc23927232f6d7"
  },
  {
   "cell_type": "markdown",
   "source": [
    "704. 二分查找 https://leetcode.cn/problems/binary-search/description/\n",
    "\n",
    "给定一个 n 个元素有序的（升序）整型数组 nums 和一个目标值 target  ，写一个函数搜索 nums 中的 target，如果目标值存在返回下标，否则返回 -1。\n",
    "\n",
    "示例 1:\n",
    "输入: nums = [-1,0,3,5,9,12], target = 9\n",
    "输出: 4\n",
    "解释: 9 出现在 nums 中并且下标为 4\n",
    "\n",
    "示例 2:\n",
    "输入: nums = [-1,0,3,5,9,12], target = 2\n",
    "输出: -1\n",
    "解释: 2 不存在 nums 中因此返回 -1\n",
    "\n",
    "提示：\n",
    "\n",
    "你可以假设 nums 中的所有元素是不重复的。\n",
    "n 将在 [1, 10000]之间。\n",
    "nums 的每个元素都将在 [-9999, 9999]之间。"
   ],
   "metadata": {
    "collapsed": false
   },
   "id": "b5c6acd4aeebc69c"
  },
  {
   "cell_type": "code",
   "execution_count": 3,
   "outputs": [
    {
     "data": {
      "text/plain": "4"
     },
     "execution_count": 3,
     "metadata": {},
     "output_type": "execute_result"
    }
   ],
   "source": [
    "#TODO 注意 如果是[left,right)则可以 选择区间 len(nums) \n",
    "from typing import List\n",
    "class Solution:\n",
    "    def search(self, nums: List[int], target: int) -> int:\n",
    "        l , r = 0,len(nums)\n",
    "        while l < r:\n",
    "            mid = (l + r)>> 1 #可以写成r + (l - r) // 2\n",
    "            if nums[mid] > target:\n",
    "                r = mid \n",
    "            elif nums[mid] < target:\n",
    "                l = mid + 1\n",
    "            else:return mid #TODO  注意返回的是什么\n",
    "        return -1\n",
    "S1 = Solution().search([-1,0,3,5,9,12],9)\n",
    "S1"
   ],
   "metadata": {
    "collapsed": false,
    "ExecuteTime": {
     "end_time": "2023-10-29T07:00:36.287035600Z",
     "start_time": "2023-10-29T07:00:36.175554800Z"
    }
   },
   "id": "dfd26533cec54913"
  },
  {
   "cell_type": "markdown",
   "source": [
    "# 移除元素 原地操作  https://leetcode.cn/problems/remove-element/description/\n",
    "给你一个数组 nums 和一个值 val，你需要 原地 移除所有数值等于 val 的元素，并返回移除后数组的新长度。\n",
    "\n",
    "不要使用额外的数组空间，你必须仅使用 O(1) 额外空间并 原地 修改输入数组。\n",
    "\n",
    "元素的顺序可以改变。你不需要考虑数组中超出新长度后面的元素。\n",
    "\n",
    " \n",
    "\n",
    "说明:\n",
    "\n",
    "为什么返回数值是整数，但输出的答案是数组呢?\n",
    "\n",
    "请注意，输入数组是以「引用」方式传递的，这意味着在函数里修改输入数组对于调用者是可见的。\n",
    "\n",
    "你可以想象内部操作如下:\n",
    "\n",
    "// nums 是以“引用”方式传递的。也就是说，不对实参作任何拷贝\n",
    "int len = removeElement(nums, val);\n",
    "\n",
    "// 在函数里修改输入数组对于调用者是可见的。\n",
    "// 根据你的函数返回的长度, 它会打印出数组中 该长度范围内 的所有元素。\n",
    "for (int i = 0; i < len; i++) {\n",
    "    print(nums[i]);\n",
    "}\n",
    " \n",
    "\n",
    "示例 1：\n",
    "\n",
    "输入：nums = [3,2,2,3], val = 3\n",
    "输出：2, nums = [2,2]\n",
    "解释：函数应该返回新的长度 2, 并且 nums 中的前两个元素均为 2。你不需要考虑数组中超出新长度后面的元素。例如，函数返回的新长度为 2 ，而 nums = [2,2,3,3] 或 nums = [2,2,0,0]，也会被视作正确答案。\n",
    "示例 2：\n",
    "\n",
    "输入：nums = [0,1,2,2,3,0,4,2], val = 2\n",
    "输出：5, nums = [0,1,4,0,3]\n",
    "解释：函数应该返回新的长度 5, 并且 nums 中的前五个元素为 0, 1, 3, 0, 4。注意这五个元素可为任意顺序。你不需要考虑数组中超出新长度后面的元素。"
   ],
   "metadata": {
    "collapsed": false
   },
   "id": "7faa34b0718d0873"
  },
  {
   "cell_type": "markdown",
   "source": [
    "#TODO 对比 方法一是把要删除的放到末尾；方法二是放在数组最前\n",
    "#思路 双指针；要删除的放后面\n",
    "#TODO 方法一 \n",
    "class Solution:\n",
    "    def removeElement(self, nums: List[int], val: int) -> int:\n",
    "        l = 0\n",
    "        if not nums:\n",
    "            return 0\n",
    "        r = len(nums) - 1\n",
    "        while l < r:\n",
    "            if nums[r] == val and nums[l] == val:\n",
    "                r -= 1\n",
    "            elif nums[l] == val and nums[r] != val:\n",
    "                nums[l] , nums[r] = nums[r],nums[l]\n",
    "                l += 1\n",
    "                r -= 1\n",
    "            elif nums[r] == val and nums[l] != val:\n",
    "                r -= 1\n",
    "            else:\n",
    "                l += 1\n",
    "        return l + 1 if nums[l] != val else l\n",
    "    \n",
    "#TODO 方法二 —— 快慢指针\n",
    "class Solution:\n",
    "    def removeElement(self, nums: List[int], val: int) -> int:\n",
    "        f = 0\n",
    "        s = 0\n",
    "        while f < len(nums):\n",
    "            #把val 放到数组前面的位置；\n",
    "            if nums[f] != val:\n",
    "                nums[s],nums[f] = nums[f] , nums[s]\n",
    "                s += 1\n",
    "            f += 1\n",
    "        return s"
   ],
   "metadata": {
    "collapsed": false
   },
   "id": "1ed82ae3434bca95"
  },
  {
   "cell_type": "markdown",
   "source": [
    "977. 有序数组的平方\n",
    "给你一个按 非递减顺序 排序的整数数组 nums，返回 每个数字的平方 组成的新数组，要求也按 非递减顺序 排序。\n",
    "\n",
    "示例 1：\n",
    "\n",
    "输入：nums = [-4,-1,0,3,10]\n",
    "输出：[0,1,9,16,100]\n",
    "解释：平方后，数组变为 [16,1,0,9,100]\n",
    "排序后，数组变为 [0,1,9,16,100]\n",
    "示例 2：\n",
    "\n",
    "输入：nums = [-7,-3,2,3,11]\n",
    "输出：[4,9,9,49,121]\n",
    " \n",
    "提示：\n",
    "1 <= nums.length <= 104\n",
    "-104 <= nums[i] <= 104\n"
   ],
   "metadata": {
    "collapsed": false
   },
   "id": "408de6b21edaba6d"
  },
  {
   "cell_type": "code",
   "execution_count": 7,
   "outputs": [
    {
     "data": {
      "text/plain": "[4, 9, 9, 49, 121]"
     },
     "execution_count": 7,
     "metadata": {},
     "output_type": "execute_result"
    }
   ],
   "source": [
    "class Solution:\n",
    "    def sortedSquares(self, nums: List[int]) -> List[int]:\n",
    "        #思路 最大的元素 一定在首尾 其中一个位置\n",
    "        res  = []\n",
    "        l = 0\n",
    "        r = len(nums) - 1 #每次存放最大的元素\n",
    "        while l <= r:\n",
    "            al = nums[l] * nums[l]\n",
    "            ar = nums[r] * nums[r]\n",
    "            if al > ar:\n",
    "                res.append(al)\n",
    "                l += 1\n",
    "            else:\n",
    "                res.append(ar)\n",
    "                r -= 1\n",
    "        return res[::-1]\n",
    "Solution().sortedSquares([-7,-3,2,3,11])"
   ],
   "metadata": {
    "collapsed": false,
    "ExecuteTime": {
     "end_time": "2023-10-29T08:54:44.881621800Z",
     "start_time": "2023-10-29T08:54:44.788804400Z"
    }
   },
   "id": "253eb5c37e411856"
  },
  {
   "cell_type": "markdown",
   "source": [
    "209. 长度最小的子数组\n",
    "\n",
    "给定一个含有 n 个正整数的数组和一个正整数 target 。\n",
    "找出该数组中满足其总和大于等于 target 的长度最小的 连续子数组 [numsl, numsl+1, ..., numsr-1, numsr] ，并返回其长度。如果不存在符合条件的子数组，返回 0 。\n",
    "\n",
    "示例 1：\n",
    "\n",
    "输入：target = 7, nums = [2,3,1,2,4,3]\n",
    "输出：2\n",
    "解释：子数组 [4,3] 是该条件下的长度最小的子数组。\n",
    "示例 2：\n",
    "\n",
    "输入：target = 4, nums = [1,4,4]\n",
    "输出：1\n",
    "示例 3：\n",
    "\n",
    "输入：target = 11, nums = [1,1,1,1,1,1,1,1]\n",
    "输出：0"
   ],
   "metadata": {
    "collapsed": false
   },
   "id": "19d892cdadae6ab9"
  },
  {
   "cell_type": "markdown",
   "source": [
    "class Solution:\n",
    "    def minSubArrayLen(self, target: int, nums: List[int]) -> int:\n",
    "        res = float('inf')\n",
    "        l = 0\n",
    "        r = 0\n",
    "        cur = 0\n",
    "        while r < len(nums):\n",
    "            cur += nums[r]\n",
    "            while cur >= target: #TODO 满足大于等于target的\n",
    "               res = min(res, r -l + 1)\n",
    "               cur -= nums[l]\n",
    "               l += 1\n",
    "            #TODO  易错点 cur += nums[r] 应该放在while循环之前\n",
    "            r += 1 \n",
    "        return res if res != float('inf') else 0\n",
    "Solution().minSubArrayLen(7,[2,3,1,2,4,3])"
   ],
   "metadata": {
    "collapsed": false
   },
   "id": "760518cad1330d8d"
  },
  {
   "cell_type": "markdown",
   "source": [
    "59. 螺旋矩阵 II\n",
    "\n",
    "给你一个正整数 n ，生成一个包含 1 到 n2 所有元素，且元素按顺时针顺序螺旋排列的 n x n 正方形矩阵 matrix 。\n",
    "\n",
    "示例 1：\n",
    "\n",
    "输入：n = 3\n",
    "输出：[[1,2,3],[8,9,4],[7,6,5]]\n",
    "示例 2：\n",
    "\n",
    "输入：n = 1\n",
    "输出：[[1]]\n",
    "\n",
    "提示：\n",
    "\n",
    "1 <= n <= 20"
   ],
   "metadata": {
    "collapsed": false
   },
   "id": "6eb1a63655bb2d2c"
  },
  {
   "cell_type": "code",
   "execution_count": 11,
   "outputs": [],
   "source": [
    "class Solution:\n",
    "    def generateMatrix(self, n: int) -> List[List[int]]:\n",
    "        st = 1\n",
    "        res = [[0] * n for _ in range(n)]\n",
    "        row , column = 0,0\n",
    "        for offset in range(1,n // 2 + 1): #偏移量x和y的边界均减小\n",
    "            #TODO 右\n",
    "            for i in range(offset - 1, n - offset):\n",
    "                res[row][i] = st ; st += 1\n",
    "            #TODO 下\n",
    "            for i in range(offset - 1,n-offset):\n",
    "                res[i][n - offset] = st ; st += 1\n",
    "            #左\n",
    "            for i in range(n - offset , offset - 1,-1):\n",
    "                res[n-offset][i] = st;st += 1\n",
    "            #上\n",
    "            for i in range(n - offset , offset - 1,-1):\n",
    "                res[i][column] = st;st += 1\n",
    "            row +=1 \n",
    "            column += 1\n",
    "        if n % 2 != 0:\n",
    "            res[n//2][n//2] = st\n",
    "        return res"
   ],
   "metadata": {
    "collapsed": false,
    "ExecuteTime": {
     "end_time": "2023-10-29T15:04:14.232887300Z",
     "start_time": "2023-10-29T15:04:14.082424Z"
    }
   },
   "id": "41c4d337358965eb"
  },
  {
   "cell_type": "code",
   "execution_count": null,
   "outputs": [],
   "source": [],
   "metadata": {
    "collapsed": false
   },
   "id": "708689afdf39ea82"
  }
 ],
 "metadata": {
  "kernelspec": {
   "display_name": "Python 3",
   "language": "python",
   "name": "python3"
  },
  "language_info": {
   "codemirror_mode": {
    "name": "ipython",
    "version": 2
   },
   "file_extension": ".py",
   "mimetype": "text/x-python",
   "name": "python",
   "nbconvert_exporter": "python",
   "pygments_lexer": "ipython2",
   "version": "2.7.6"
  }
 },
 "nbformat": 4,
 "nbformat_minor": 5
}
