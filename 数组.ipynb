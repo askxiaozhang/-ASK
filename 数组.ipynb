{
 "cells": [
  {
   "cell_type": "markdown",
   "source": [
    "# 二分"
   ],
   "metadata": {
    "collapsed": false
   },
   "id": "d1fc23927232f6d7"
  },
  {
   "cell_type": "markdown",
   "source": [
    "704. 二分查找 https://leetcode.cn/problems/binary-search/description/\n",
    "\n",
    "给定一个 n 个元素有序的（升序）整型数组 nums 和一个目标值 target  ，写一个函数搜索 nums 中的 target，如果目标值存在返回下标，否则返回 -1。\n",
    "\n",
    "示例 1:\n",
    "输入: nums = [-1,0,3,5,9,12], target = 9\n",
    "输出: 4\n",
    "解释: 9 出现在 nums 中并且下标为 4\n",
    "\n",
    "示例 2:\n",
    "输入: nums = [-1,0,3,5,9,12], target = 2\n",
    "输出: -1\n",
    "解释: 2 不存在 nums 中因此返回 -1\n",
    "\n",
    "提示：\n",
    "\n",
    "你可以假设 nums 中的所有元素是不重复的。\n",
    "n 将在 [1, 10000]之间。\n",
    "nums 的每个元素都将在 [-9999, 9999]之间。"
   ],
   "metadata": {
    "collapsed": false
   },
   "id": "b5c6acd4aeebc69c"
  },
  {
   "cell_type": "code",
   "execution_count": 3,
   "outputs": [
    {
     "data": {
      "text/plain": "4"
     },
     "execution_count": 3,
     "metadata": {},
     "output_type": "execute_result"
    }
   ],
   "source": [
    "#TODO 注意 如果是[left,right)则可以 选择区间 len(nums) \n",
    "from typing import List\n",
    "class Solution:\n",
    "    def search(self, nums: List[int], target: int) -> int:\n",
    "        l , r = 0,len(nums)\n",
    "        while l < r:\n",
    "            mid = (l + r)>> 1 #可以写成r + (l - r) // 2\n",
    "            if nums[mid] > target:\n",
    "                r = mid \n",
    "            elif nums[mid] < target:\n",
    "                l = mid + 1\n",
    "            else:return mid #TODO  注意返回的是什么\n",
    "        return -1\n",
    "S1 = Solution().search([-1,0,3,5,9,12],9)\n",
    "S1"
   ],
   "metadata": {
    "collapsed": false,
    "ExecuteTime": {
     "end_time": "2023-10-29T07:00:36.287035600Z",
     "start_time": "2023-10-29T07:00:36.175554800Z"
    }
   },
   "id": "dfd26533cec54913"
  },
  {
   "cell_type": "markdown",
   "source": [
    "# 移除元素 原地操作  https://leetcode.cn/problems/remove-element/description/\n",
    "给你一个数组 nums 和一个值 val，你需要 原地 移除所有数值等于 val 的元素，并返回移除后数组的新长度。\n",
    "\n",
    "不要使用额外的数组空间，你必须仅使用 O(1) 额外空间并 原地 修改输入数组。\n",
    "\n",
    "元素的顺序可以改变。你不需要考虑数组中超出新长度后面的元素。\n",
    "\n",
    " \n",
    "\n",
    "说明:\n",
    "\n",
    "为什么返回数值是整数，但输出的答案是数组呢?\n",
    "\n",
    "请注意，输入数组是以「引用」方式传递的，这意味着在函数里修改输入数组对于调用者是可见的。\n",
    "\n",
    "你可以想象内部操作如下:\n",
    "\n",
    "// nums 是以“引用”方式传递的。也就是说，不对实参作任何拷贝\n",
    "int len = removeElement(nums, val);\n",
    "\n",
    "// 在函数里修改输入数组对于调用者是可见的。\n",
    "// 根据你的函数返回的长度, 它会打印出数组中 该长度范围内 的所有元素。\n",
    "for (int i = 0; i < len; i++) {\n",
    "    print(nums[i]);\n",
    "}\n",
    " \n",
    "\n",
    "示例 1：\n",
    "\n",
    "输入：nums = [3,2,2,3], val = 3\n",
    "输出：2, nums = [2,2]\n",
    "解释：函数应该返回新的长度 2, 并且 nums 中的前两个元素均为 2。你不需要考虑数组中超出新长度后面的元素。例如，函数返回的新长度为 2 ，而 nums = [2,2,3,3] 或 nums = [2,2,0,0]，也会被视作正确答案。\n",
    "示例 2：\n",
    "\n",
    "输入：nums = [0,1,2,2,3,0,4,2], val = 2\n",
    "输出：5, nums = [0,1,4,0,3]\n",
    "解释：函数应该返回新的长度 5, 并且 nums 中的前五个元素为 0, 1, 3, 0, 4。注意这五个元素可为任意顺序。你不需要考虑数组中超出新长度后面的元素。"
   ],
   "metadata": {
    "collapsed": false
   },
   "id": "7faa34b0718d0873"
  },
  {
   "cell_type": "code",
   "execution_count": 4,
   "outputs": [],
   "source": [
    "#TODO 对比 方法一是把要删除的放到末尾；方法二是放在数组最前\n",
    "#思路 双指针；要删除的放后面\n",
    "#TODO 方法一 \n",
    "class Solution:\n",
    "    def removeElement(self, nums: List[int], val: int) -> int:\n",
    "        l = 0\n",
    "        if not nums:\n",
    "            return 0\n",
    "        r = len(nums) - 1\n",
    "        while l < r:\n",
    "            if nums[r] == val and nums[l] == val:\n",
    "                r -= 1\n",
    "            elif nums[l] == val and nums[r] != val:\n",
    "                nums[l] , nums[r] = nums[r],nums[l]\n",
    "                l += 1\n",
    "                r -= 1\n",
    "            elif nums[r] == val and nums[l] != val:\n",
    "                r -= 1\n",
    "            else:\n",
    "                l += 1\n",
    "        return l + 1 if nums[l] != val else l\n",
    "    \n",
    "#TODO 方法二 —— 快慢指针\n",
    "class Solution:\n",
    "    def removeElement(self, nums: List[int], val: int) -> int:\n",
    "        f = 0\n",
    "        s = 0\n",
    "        while f < len(nums):\n",
    "            #把val 放到数组前面的位置；\n",
    "            if nums[f] != val:\n",
    "                nums[s],nums[f] = nums[f] , nums[s]\n",
    "                s += 1\n",
    "            f += 1\n",
    "        return s"
   ],
   "metadata": {
    "collapsed": false,
    "ExecuteTime": {
     "end_time": "2023-10-29T08:11:12.727131500Z",
     "start_time": "2023-10-29T08:11:12.695882100Z"
    }
   },
   "id": "1bc2a1fa1481724c"
  },
  {
   "cell_type": "code",
   "execution_count": null,
   "outputs": [],
   "source": [],
   "metadata": {
    "collapsed": false
   },
   "id": "3c3cd34565b40573"
  }
 ],
 "metadata": {
  "kernelspec": {
   "display_name": "Python 3",
   "language": "python",
   "name": "python3"
  },
  "language_info": {
   "codemirror_mode": {
    "name": "ipython",
    "version": 2
   },
   "file_extension": ".py",
   "mimetype": "text/x-python",
   "name": "python",
   "nbconvert_exporter": "python",
   "pygments_lexer": "ipython2",
   "version": "2.7.6"
  }
 },
 "nbformat": 4,
 "nbformat_minor": 5
}
