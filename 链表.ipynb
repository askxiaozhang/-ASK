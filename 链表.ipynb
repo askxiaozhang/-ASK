{
 "cells": [
  {
   "cell_type": "markdown",
   "source": [
    "# 203. 移除链表元素\n",
    "\n",
    "给你一个链表的头节点 head 和一个整数 val ，请你删除链表中所有满足 Node.val == val 的节点，并返回 新的头节点 。\n",
    " \n",
    "示例 1：https://assets.leetcode.com/uploads/2021/03/06/removelinked-list.jpg\n",
    "\n",
    "输入：head = [1,2,6,3,4,5,6], val = 6\n",
    "输出：[1,2,3,4,5]\n",
    "示例 2：\n",
    "\n",
    "输入：head = [], val = 1\n",
    "输出：[]\n",
    "示例 3：\n",
    "\n",
    "输入：head = [7,7,7,7], val = 7\n",
    "输出：[]\n",
    " "
   ],
   "metadata": {
    "collapsed": false
   },
   "id": "852d0e1050f8eead"
  },
  {
   "cell_type": "code",
   "execution_count": 2,
   "outputs": [],
   "source": [
    "# Definition for singly-linked list.\n",
    "class ListNode:\n",
    "    def __init__(self, val=0, next=None):\n",
    "        self.val = val\n",
    "        self.next = next\n",
    "from typing import Optional\n",
    "\n",
    "class Solution:\n",
    "    def removeElements(self, head: Optional[ListNode], val: int) -> Optional[ListNode]:\n",
    "        dummy = ListNode()\n",
    "        dummy.next = head\n",
    "        cur = dummy\n",
    "        while cur.next:\n",
    "            if cur.next.val == val:\n",
    "                if cur.next.next:\n",
    "                    cur.next = cur.next.next \n",
    "                else: #\n",
    "                    cur.next = None \n",
    "            else:#TODO 这一定要有else 否则会出现 7 7 7 7 异常\n",
    "                cur = cur.next\n",
    "        return dummy.next"
   ],
   "metadata": {
    "collapsed": false,
    "ExecuteTime": {
     "end_time": "2023-10-30T12:35:44.865217700Z",
     "start_time": "2023-10-30T12:35:44.832495700Z"
    }
   },
   "id": "5995252d7735ba27"
  },
  {
   "cell_type": "markdown",
   "source": [
    "# 707. 设计链表\n",
    "\n",
    "你可以选择使用单链表或者双链表，设计并实现自己的链表。\n",
    "\n",
    "单链表中的节点应该具备两个属性：val 和 next 。val 是当前节点的值，next 是指向下一个节点的指针/引用。\n",
    "\n",
    "如果是双向链表，则还需要属性 prev 以指示链表中的上一个节点。假设链表中的所有节点下标从 0 开始。\n",
    "\n",
    "实现 MyLinkedList 类：\n",
    "\n",
    "MyLinkedList() 初始化 MyLinkedList 对象。\n",
    "int get(int index) 获取链表中下标为 index 的节点的值。如果下标无效，则返回 -1 。\n",
    "void addAtHead(int val) 将一个值为 val 的节点插入到链表中第一个元素之前。在插入完成后，新节点会成为链表的第一个节点。\n",
    "void addAtTail(int val) 将一个值为 val 的节点追加到链表中作为链表的最后一个元素。\n",
    "void addAtIndex(int index, int val) 将一个值为 val 的节点插入到链表中下标为 index 的节点之前。如果 index 等于链表的长度，那么该节点会被追加到链表的末尾。如果 index 比长度更大，该节点将 不会插入 到链表中。\n",
    "void deleteAtIndex(int index) 如果下标有效，则删除链表中下标为 index 的节点。"
   ],
   "metadata": {
    "collapsed": false
   },
   "id": "20e2cca0639b176a"
  },
  {
   "cell_type": "code",
   "execution_count": 1,
   "outputs": [],
   "source": [
    "# 单链表\n",
    "class ListNode:\n",
    "    def __init__(self,val = 0,next = None):\n",
    "        self.val = val \n",
    "        self.next = next\n",
    "\n",
    "class MyLinkedList:\n",
    "    def __init__(self):\n",
    "        self.dummy_head = ListNode()\n",
    "        self.size = 0 #链表长度 \n",
    "\n",
    "    def get(self, index: int) -> int: \n",
    "        if index < 0 or index >= self.size:\n",
    "            return -1\n",
    "\n",
    "        cur = self.dummy_head\n",
    "        for _ in range(index):\n",
    "            cur = cur.next\n",
    "        return cur.next.val #TODO get的是index后面一位\n",
    "\n",
    "    def addAtHead(self, val: int) -> None:\n",
    "        self.dummy_head.next = ListNode(val=val,next = self.dummy_head.next)\n",
    "        self.size += 1\n",
    "\n",
    "    def addAtTail(self, val: int) -> None:\n",
    "        \n",
    "        cur = self.dummy_head\n",
    "        while cur.next:\n",
    "            cur = cur.next\n",
    "        cur.next = ListNode(val=val)\n",
    "        self.size += 1\n",
    "    def addAtIndex(self, index: int, val: int) -> None:\n",
    "        if index < 0 or index > self.size:\n",
    "            return\n",
    "        cur = self.dummy_head\n",
    "        for i in range(index):\n",
    "            cur = cur.next\n",
    "        cur.next = ListNode(val, cur.next)\n",
    "        self.size += 1\n",
    "\n",
    "\n",
    "    def deleteAtIndex(self, index: int) -> None:\n",
    "        if index < 0 or index >= self.size:return\n",
    "        cur = self.dummy_head\n",
    "        for _ in range(index):\n",
    "            cur = cur.next\n",
    "        cur.next = cur.next.next\n",
    "        self.size -= 1        \n",
    "\n",
    "\n",
    "# Your MyLinkedList object will be instantiated and called as such:\n",
    "# obj = MyLinkedList()\n",
    "# param_1 = obj.get(index)\n",
    "# obj.addAtHead(val)\n",
    "# obj.addAtTail(val)\n",
    "# obj.addAtIndex(index,val)\n",
    "# obj.deleteAtIndex(index)"
   ],
   "metadata": {
    "collapsed": false,
    "ExecuteTime": {
     "end_time": "2023-11-03T12:12:33.360374900Z",
     "start_time": "2023-11-03T12:12:33.329283Z"
    }
   },
   "id": "9c4a3f82aa06bf76"
  },
  {
   "cell_type": "code",
   "execution_count": 2,
   "outputs": [],
   "source": [
    "# 双链表 \n",
    "#TODO 待补充"
   ],
   "metadata": {
    "collapsed": false,
    "ExecuteTime": {
     "start_time": "2023-11-03T13:55:10.503823100Z"
    }
   },
   "id": "77a928cea274f5a6"
  },
  {
   "cell_type": "markdown",
   "source": [
    "# 面试题 02.07. 链表相交\n",
    "\n",
    "提示\n",
    "给你两个单链表的头节点 headA 和 headB ，请你找出并返回两个单链表相交的起始节点。如果两个链表没有交点，返回 null 。\n",
    "\n",
    "图示两个链表在节点 c1 开始相交：\n",
    "\n",
    "题目数据 保证 整个链式结构中不存在环。\n",
    "\n",
    "注意，函数返回结果后，链表必须 保持其原始结构 。"
   ],
   "metadata": {
    "collapsed": false
   },
   "id": "364f0b6a38878ee"
  },
  {
   "cell_type": "code",
   "execution_count": 3,
   "outputs": [],
   "source": [
    "# Definition for singly-linked list.\n",
    "# class ListNode:\n",
    "#     def __init__(self, x):\n",
    "#         self.val = x\n",
    "#         self.next = None\n",
    "\n",
    "class Solution:\n",
    "    def getIntersectionNode(self, headA: ListNode, headB: ListNode) -> ListNode:\n",
    "        cur1 = ListNode(0)\n",
    "        cur1.next = headA\n",
    "        cur2 = ListNode(0)\n",
    "        cur2.next = headB\n",
    "        cur1 = cur1.next ; cur2 = cur2.next\n",
    "        while cur1 or cur2:\n",
    "            #res1 =cur1 if cur1 else None\n",
    "            #res2 = cur2 if cur2 else None\n",
    "            #print(res1.val if res1 else None,res2.val if res2 else None)\n",
    "            if cur1 == cur2:\n",
    "                return cur1\n",
    "            cur1 = cur1.next if cur1 else headB\n",
    "            cur2 = cur2.next if cur2 else headA\n",
    "        return None     "
   ],
   "metadata": {
    "collapsed": false,
    "ExecuteTime": {
     "end_time": "2023-11-03T13:58:05.366386400Z",
     "start_time": "2023-11-03T13:58:05.293460700Z"
    }
   },
   "id": "a39b7b7b6ee500b0"
  },
  {
   "cell_type": "code",
   "execution_count": null,
   "outputs": [],
   "source": [],
   "metadata": {
    "collapsed": false
   },
   "id": "c6c1c0d01599cf83"
  },
  {
   "cell_type": "code",
   "execution_count": 5,
   "outputs": [],
   "source": [
    "# Definition for singly-linked list.\n",
    "# class ListNode:\n",
    "#     def __init__(self, x):\n",
    "#         self.val = x\n",
    "#         self.next = None\n",
    "from typing import Optional\n",
    "class Solution:\n",
    "    def hasCycle(self, head: Optional[ListNode]) -> bool:\n",
    "        if not head:return False\n",
    "        fast = head\n",
    "        slow = head\n",
    "        while fast.next and fast.next.next: #TODO 易错点 容易写成slow.next 快指针每次走2步，如果无环则已经到终点了 即停止\n",
    "            slow = slow.next\n",
    "            fast = fast.next.next \n",
    "            if slow == fast:\n",
    "                return True\n",
    "        return False"
   ],
   "metadata": {
    "collapsed": false,
    "ExecuteTime": {
     "end_time": "2023-11-03T14:53:52.657965900Z",
     "start_time": "2023-11-03T14:53:52.577116900Z"
    }
   },
   "id": "e7079e2570fc93a9"
  },
  {
   "cell_type": "markdown",
   "source": [
    "# 142. 环形链表 II\n",
    "\n",
    "给定一个链表的头节点  head ，返回链表开始入环的第一个节点。 如果链表无环，则返回 null。\n",
    "\n",
    "如果链表中有某个节点，可以通过连续跟踪 next 指针再次到达，则链表中存在环。 为了表示给定链表中的环，评测系统内部使用整数 pos 来表示链表尾连接到链表中的位置（索引从 0 开始）。如果 pos 是 -1，则在该链表中没有环。注意：pos 不作为参数进行传递，仅仅是为了标识链表的实际情况。\n",
    "\n",
    "不允许修改 链表。\n",
    "\n",
    "示例 1：\n",
    "\n",
    "输入：head = [3,2,0,-4], pos = 1\n",
    "输出：返回索引为 1 的链表节点\n",
    "解释：链表中有一个环，其尾部连接到第二个节点。"
   ],
   "metadata": {
    "collapsed": false
   },
   "id": "d92a9f17b8987f4d"
  },
  {
   "cell_type": "code",
   "execution_count": 6,
   "outputs": [],
   "source": [
    "# Definition for singly-linked list.\n",
    "# class ListNode:\n",
    "#     def __init__(self, x):\n",
    "#         self.val = x\n",
    "#         self.next = None\n",
    "\n",
    "class Solution:\n",
    "    def detectCycle(self, head: Optional[ListNode]) -> Optional[ListNode]:\n",
    "        if not head:return None\n",
    "        fast = head\n",
    "        slow = head\n",
    "        #设 它们进入入口的距离为a，从入口到达相遇点的距离为b，（看成一个圆圈）则剩下的距离设为c\n",
    "        #TODO 有 快指针走的距离为：a + b + n(b + c) #TODO n为走了n圈\n",
    "        #TODO 慢指针走的距离为 a + b\n",
    "        #两者的等式为 a + b + n(b+c) = 2(a+b) #TODO 注意有个2 因为快指针走2步\n",
    "        #移项推出 a = (n - 1)(b+c) + c #(n-1)(b+c)表示走了n-1圈\n",
    "        #所以入口点只需求得 一个点从a起点出发 一个点从c起点出发  相遇则为 入口\n",
    "        while fast.next and fast.next.next:\n",
    "            slow = slow.next\n",
    "            fast = fast.next.next\n",
    "            if slow == fast:\n",
    "                fast = head\n",
    "                while fast != slow:\n",
    "                    fast = fast.next\n",
    "                    slow = slow.next\n",
    "                return slow\n",
    "        return None"
   ],
   "metadata": {
    "collapsed": false,
    "ExecuteTime": {
     "end_time": "2023-11-03T14:54:34.259108200Z",
     "start_time": "2023-11-03T14:54:34.043616800Z"
    }
   },
   "id": "da691cb94c303512"
  },
  {
   "cell_type": "code",
   "execution_count": null,
   "outputs": [],
   "source": [],
   "metadata": {
    "collapsed": false
   },
   "id": "861ddbfe7796553"
  }
 ],
 "metadata": {
  "kernelspec": {
   "display_name": "Python 3",
   "language": "python",
   "name": "python3"
  },
  "language_info": {
   "codemirror_mode": {
    "name": "ipython",
    "version": 2
   },
   "file_extension": ".py",
   "mimetype": "text/x-python",
   "name": "python",
   "nbconvert_exporter": "python",
   "pygments_lexer": "ipython2",
   "version": "2.7.6"
  }
 },
 "nbformat": 4,
 "nbformat_minor": 5
}
