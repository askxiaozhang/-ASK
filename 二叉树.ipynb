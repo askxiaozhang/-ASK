{
 "cells": [
  {
   "cell_type": "markdown",
   "source": [
    "# 102. 二叉树的层序遍历\n",
    "\n",
    "给你二叉树的根节点 root ，返回其节点值的 层序遍历 。 （即逐层地，从左到右访问所有节点）。\n",
    "\n",
    "示例 1：\n",
    "\n",
    "输入：root = [3,9,20,null,null,15,7]\n",
    "输出：[[3],[9,20],[15,7]]\n",
    "示例 2：\n",
    "\n",
    "输入：root = [1]\n",
    "输出：[[1]]\n",
    "示例 3：\n",
    "\n",
    "输入：root = []\n",
    "输出：[]"
   ],
   "metadata": {
    "collapsed": false
   },
   "id": "99e1d991403de696"
  },
  {
   "cell_type": "code",
   "execution_count": 5,
   "outputs": [
    {
     "ename": "NameError",
     "evalue": "name 'Optional' is not defined",
     "output_type": "error",
     "traceback": [
      "\u001B[1;31m---------------------------------------------------------------------------\u001B[0m",
      "\u001B[1;31mNameError\u001B[0m                                 Traceback (most recent call last)",
      "Cell \u001B[1;32mIn[5], line 7\u001B[0m\n\u001B[0;32m      1\u001B[0m \u001B[38;5;66;03m# Definition for a binary tree node.\u001B[39;00m\n\u001B[0;32m      2\u001B[0m \u001B[38;5;66;03m# class TreeNode:\u001B[39;00m\n\u001B[0;32m      3\u001B[0m \u001B[38;5;66;03m#     def __init__(self, val=0, left=None, right=None):\u001B[39;00m\n\u001B[0;32m      4\u001B[0m \u001B[38;5;66;03m#         self.val = val\u001B[39;00m\n\u001B[0;32m      5\u001B[0m \u001B[38;5;66;03m#         self.left = left\u001B[39;00m\n\u001B[0;32m      6\u001B[0m \u001B[38;5;66;03m#         self.right = right\u001B[39;00m\n\u001B[1;32m----> 7\u001B[0m \u001B[38;5;28;01mclass\u001B[39;00m \u001B[38;5;21;01mSolution\u001B[39;00m:\n\u001B[0;32m      8\u001B[0m     \u001B[38;5;28;01mdef\u001B[39;00m \u001B[38;5;21mlevelOrder\u001B[39m(\u001B[38;5;28mself\u001B[39m, root: Optional[TreeNode]) \u001B[38;5;241m-\u001B[39m\u001B[38;5;241m>\u001B[39m List[List[\u001B[38;5;28mint\u001B[39m]]:\n\u001B[0;32m      9\u001B[0m         \u001B[38;5;28;01mif\u001B[39;00m \u001B[38;5;129;01mnot\u001B[39;00m root:\u001B[38;5;28;01mreturn\u001B[39;00m []\n",
      "Cell \u001B[1;32mIn[5], line 8\u001B[0m, in \u001B[0;36mSolution\u001B[1;34m()\u001B[0m\n\u001B[0;32m      7\u001B[0m \u001B[38;5;28;01mclass\u001B[39;00m \u001B[38;5;21;01mSolution\u001B[39;00m:\n\u001B[1;32m----> 8\u001B[0m     \u001B[38;5;28;01mdef\u001B[39;00m \u001B[38;5;21mlevelOrder\u001B[39m(\u001B[38;5;28mself\u001B[39m, root: \u001B[43mOptional\u001B[49m[TreeNode]) \u001B[38;5;241m-\u001B[39m\u001B[38;5;241m>\u001B[39m List[List[\u001B[38;5;28mint\u001B[39m]]:\n\u001B[0;32m      9\u001B[0m         \u001B[38;5;28;01mif\u001B[39;00m \u001B[38;5;129;01mnot\u001B[39;00m root:\u001B[38;5;28;01mreturn\u001B[39;00m []\n\u001B[0;32m     10\u001B[0m         \u001B[38;5;28;01mfrom\u001B[39;00m \u001B[38;5;21;01mcollections\u001B[39;00m \u001B[38;5;28;01mimport\u001B[39;00m deque \u001B[38;5;66;03m#TODO 层序遍历 双端队列！\u001B[39;00m\n",
      "\u001B[1;31mNameError\u001B[0m: name 'Optional' is not defined"
     ]
    }
   ],
   "source": [
    "# Definition for a binary tree node.\n",
    "# class TreeNode:\n",
    "#     def __init__(self, val=0, left=None, right=None):\n",
    "#         self.val = val\n",
    "#         self.left = left\n",
    "#         self.right = right\n",
    "class Solution:\n",
    "    def levelOrder(self, root: Optional[TreeNode]) -> List[List[int]]:\n",
    "        if not root:return []\n",
    "        from collections import deque #TODO 层序遍历 双端队列！\n",
    "        res = [[root.val]]\n",
    "        stack = deque()\n",
    "        stack.append(root)\n",
    "        while stack:\n",
    "            tmp = []\n",
    "            for _ in range(len(stack)):\n",
    "                cur = stack.popleft()\n",
    "                if cur.left:\n",
    "                    tmp.append(cur.left.val)\n",
    "                    stack.append(cur.left)\n",
    "                if cur.right:\n",
    "                    tmp.append(cur.right.val)\n",
    "                    stack.append(cur.right)\n",
    "            if tmp:\n",
    "                res.append(tmp[:])\n",
    "        return res"
   ],
   "metadata": {
    "collapsed": false,
    "ExecuteTime": {
     "end_time": "2023-11-03T15:39:38.450892900Z",
     "start_time": "2023-11-03T15:39:37.641908200Z"
    }
   },
   "id": "6e2e7f6c94c9b068"
  },
  {
   "cell_type": "markdown",
   "source": [
    "# 117. 填充每个节点的下一个右侧节点指针 II\n",
    "\n",
    "给定一个二叉树：\n",
    "\n",
    "struct Node {\n",
    "  int val;\n",
    "  Node *left;\n",
    "  Node *right;\n",
    "  Node *next;\n",
    "}\n",
    "填充它的每个 next 指针，让这个指针指向其下一个右侧节点。如果找不到下一个右侧节点，则将 next 指针设置为 NULL 。\n",
    "\n",
    "初始状态下，所有 next 指针都被设置为 NULL 。\n",
    "\n",
    "示例 1：\n",
    "\n",
    "\n",
    "输入：root = [1,2,3,4,5,null,7]\n",
    "输出：[1,#,2,3,#,4,5,7,#]\n",
    "解释：给定二叉树如图 A 所示，你的函数应该填充它的每个 next 指针，以指向其下一个右侧节点，如图 B 所示。序列化输出按层序遍历顺序（由 next 指针连接），'#' 表示每层的末尾。"
   ],
   "metadata": {
    "collapsed": false
   },
   "id": "ce5ec44101db3961"
  },
  {
   "cell_type": "code",
   "execution_count": 4,
   "outputs": [],
   "source": [
    "#TODO 简单版\n",
    "\"\"\"\n",
    "# Definition for a Node.\n",
    "class Node:\n",
    "    def __init__(self, val: int = 0, left: 'Node' = None, right: 'Node' = None, next: 'Node' = None):\n",
    "        self.val = val\n",
    "        self.left = left\n",
    "        self.right = right\n",
    "        self.next = next\n",
    "\"\"\"\n",
    "\n",
    "class Solution:\n",
    "    def connect(self, root: 'Node') -> 'Node':\n",
    "        #层序遍历\n",
    "        cur = root\n",
    "        if not root:return \n",
    "        from collections import deque\n",
    "        stack = deque()\n",
    "        stack.append(root)\n",
    "        while stack:\n",
    "            tmp = deque()\n",
    "            for _ in range(len(stack)):\n",
    "                cur = stack.popleft()\n",
    "                if cur.left:\n",
    "                    tmp.append(cur.left)\n",
    "                    stack.append(cur.left)\n",
    "                if cur.right:\n",
    "                    tmp.append(cur.right)\n",
    "                    stack.append(cur.right)\n",
    "            pre = None\n",
    "            for _ in range(len(tmp)):\n",
    "               cur = tmp.pop()\n",
    "               cur.next = pre\n",
    "               pre = cur\n",
    "\n",
    "\n",
    "        return root\n",
    "        \n",
    "# 代码简化版：\n",
    "\n",
    "\n",
    "class Solution:\n",
    "    def connect(self, root: 'Node') -> 'Node':\n",
    "        #层序遍历\n",
    "        cur = root\n",
    "        if not root:return \n",
    "        from collections import deque\n",
    "        stack = deque()\n",
    "        stack.append(root)\n",
    "        while stack:\n",
    "            tmp = deque()\n",
    "            pre = None\n",
    "            for _ in range(len(stack)):\n",
    "                cur = stack.popleft()\n",
    "                if cur.left:\n",
    "                    #print(cur.left.val)\n",
    "                    tmp.append(cur.left)\n",
    "                    stack.append(cur.left)\n",
    "                if cur.right:\n",
    "                    #print(cur.right.val)\n",
    "                    tmp.append(cur.right)\n",
    "                    stack.append(cur.right)\n",
    "               # print(cur.val)\n",
    "                if pre: #TODO 上个节点指向当前节点\n",
    "                   # print(pre.val,cur.val)\n",
    "                    pre.next = cur\n",
    "               # print(pre.val if pre else None,cur.val if cur else None)\n",
    "                pre = cur\n",
    "        return root\n",
    "\n",
    "        "
   ],
   "metadata": {
    "collapsed": false,
    "ExecuteTime": {
     "end_time": "2023-11-03T15:38:04.529162Z",
     "start_time": "2023-11-03T15:38:04.488557100Z"
    }
   },
   "id": "519d1cfe64cbcefb"
  },
  {
   "cell_type": "code",
   "execution_count": null,
   "outputs": [],
   "source": [],
   "metadata": {
    "collapsed": false
   },
   "id": "9f59a2c8092fd9d5"
  }
 ],
 "metadata": {
  "kernelspec": {
   "display_name": "Python 3",
   "language": "python",
   "name": "python3"
  },
  "language_info": {
   "codemirror_mode": {
    "name": "ipython",
    "version": 2
   },
   "file_extension": ".py",
   "mimetype": "text/x-python",
   "name": "python",
   "nbconvert_exporter": "python",
   "pygments_lexer": "ipython2",
   "version": "2.7.6"
  }
 },
 "nbformat": 4,
 "nbformat_minor": 5
}
